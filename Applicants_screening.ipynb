{
 "cells": [
  {
   "metadata": {
    "ExecuteTime": {
     "end_time": "2025-08-22T21:07:58.328487Z",
     "start_time": "2025-08-22T21:07:55.701758Z"
    }
   },
   "cell_type": "code",
   "source": "!pip install -U langchain langgraph langchain-groq groq python-dotenv typing_extensions\n",
   "outputs": [
    {
     "name": "stdout",
     "output_type": "stream",
     "text": [
      "Requirement already satisfied: langchain in c:\\users\\dell\\codes\\langgraph_hr_screening\\.venv\\lib\\site-packages (0.3.27)\n",
      "Requirement already satisfied: langgraph in c:\\users\\dell\\codes\\langgraph_hr_screening\\.venv\\lib\\site-packages (0.6.6)\n",
      "Requirement already satisfied: langchain-groq in c:\\users\\dell\\codes\\langgraph_hr_screening\\.venv\\lib\\site-packages (0.3.7)\n",
      "Requirement already satisfied: groq in c:\\users\\dell\\codes\\langgraph_hr_screening\\.venv\\lib\\site-packages (0.31.0)\n",
      "Requirement already satisfied: python-dotenv in c:\\users\\dell\\codes\\langgraph_hr_screening\\.venv\\lib\\site-packages (1.1.1)\n",
      "Requirement already satisfied: typing_extensions in c:\\users\\dell\\codes\\langgraph_hr_screening\\.venv\\lib\\site-packages (4.14.1)\n",
      "Requirement already satisfied: langchain-core<1.0.0,>=0.3.72 in c:\\users\\dell\\codes\\langgraph_hr_screening\\.venv\\lib\\site-packages (from langchain) (0.3.74)\n",
      "Requirement already satisfied: langchain-text-splitters<1.0.0,>=0.3.9 in c:\\users\\dell\\codes\\langgraph_hr_screening\\.venv\\lib\\site-packages (from langchain) (0.3.9)\n",
      "Requirement already satisfied: langsmith>=0.1.17 in c:\\users\\dell\\codes\\langgraph_hr_screening\\.venv\\lib\\site-packages (from langchain) (0.4.16)\n",
      "Requirement already satisfied: pydantic<3.0.0,>=2.7.4 in c:\\users\\dell\\codes\\langgraph_hr_screening\\.venv\\lib\\site-packages (from langchain) (2.11.7)\n",
      "Requirement already satisfied: SQLAlchemy<3,>=1.4 in c:\\users\\dell\\codes\\langgraph_hr_screening\\.venv\\lib\\site-packages (from langchain) (2.0.43)\n",
      "Requirement already satisfied: requests<3,>=2 in c:\\users\\dell\\codes\\langgraph_hr_screening\\.venv\\lib\\site-packages (from langchain) (2.32.5)\n",
      "Requirement already satisfied: PyYAML>=5.3 in c:\\users\\dell\\codes\\langgraph_hr_screening\\.venv\\lib\\site-packages (from langchain) (6.0.2)\n",
      "Requirement already satisfied: tenacity!=8.4.0,<10.0.0,>=8.1.0 in c:\\users\\dell\\codes\\langgraph_hr_screening\\.venv\\lib\\site-packages (from langchain-core<1.0.0,>=0.3.72->langchain) (9.1.2)\n",
      "Requirement already satisfied: jsonpatch<2.0,>=1.33 in c:\\users\\dell\\codes\\langgraph_hr_screening\\.venv\\lib\\site-packages (from langchain-core<1.0.0,>=0.3.72->langchain) (1.33)\n",
      "Requirement already satisfied: packaging>=23.2 in c:\\users\\dell\\codes\\langgraph_hr_screening\\.venv\\lib\\site-packages (from langchain-core<1.0.0,>=0.3.72->langchain) (25.0)\n",
      "Requirement already satisfied: jsonpointer>=1.9 in c:\\users\\dell\\codes\\langgraph_hr_screening\\.venv\\lib\\site-packages (from jsonpatch<2.0,>=1.33->langchain-core<1.0.0,>=0.3.72->langchain) (3.0.0)\n",
      "Requirement already satisfied: annotated-types>=0.6.0 in c:\\users\\dell\\codes\\langgraph_hr_screening\\.venv\\lib\\site-packages (from pydantic<3.0.0,>=2.7.4->langchain) (0.7.0)\n",
      "Requirement already satisfied: pydantic-core==2.33.2 in c:\\users\\dell\\codes\\langgraph_hr_screening\\.venv\\lib\\site-packages (from pydantic<3.0.0,>=2.7.4->langchain) (2.33.2)\n",
      "Requirement already satisfied: typing-inspection>=0.4.0 in c:\\users\\dell\\codes\\langgraph_hr_screening\\.venv\\lib\\site-packages (from pydantic<3.0.0,>=2.7.4->langchain) (0.4.1)\n",
      "Requirement already satisfied: charset_normalizer<4,>=2 in c:\\users\\dell\\codes\\langgraph_hr_screening\\.venv\\lib\\site-packages (from requests<3,>=2->langchain) (3.4.3)\n",
      "Requirement already satisfied: idna<4,>=2.5 in c:\\users\\dell\\codes\\langgraph_hr_screening\\.venv\\lib\\site-packages (from requests<3,>=2->langchain) (3.10)\n",
      "Requirement already satisfied: urllib3<3,>=1.21.1 in c:\\users\\dell\\codes\\langgraph_hr_screening\\.venv\\lib\\site-packages (from requests<3,>=2->langchain) (2.5.0)\n",
      "Requirement already satisfied: certifi>=2017.4.17 in c:\\users\\dell\\codes\\langgraph_hr_screening\\.venv\\lib\\site-packages (from requests<3,>=2->langchain) (2025.8.3)\n",
      "Requirement already satisfied: greenlet>=1 in c:\\users\\dell\\codes\\langgraph_hr_screening\\.venv\\lib\\site-packages (from SQLAlchemy<3,>=1.4->langchain) (3.2.4)\n",
      "Requirement already satisfied: langgraph-checkpoint<3.0.0,>=2.1.0 in c:\\users\\dell\\codes\\langgraph_hr_screening\\.venv\\lib\\site-packages (from langgraph) (2.1.1)\n",
      "Requirement already satisfied: langgraph-prebuilt<0.7.0,>=0.6.0 in c:\\users\\dell\\codes\\langgraph_hr_screening\\.venv\\lib\\site-packages (from langgraph) (0.6.4)\n",
      "Requirement already satisfied: langgraph-sdk<0.3.0,>=0.2.2 in c:\\users\\dell\\codes\\langgraph_hr_screening\\.venv\\lib\\site-packages (from langgraph) (0.2.3)\n",
      "Requirement already satisfied: xxhash>=3.5.0 in c:\\users\\dell\\codes\\langgraph_hr_screening\\.venv\\lib\\site-packages (from langgraph) (3.5.0)\n",
      "Requirement already satisfied: ormsgpack>=1.10.0 in c:\\users\\dell\\codes\\langgraph_hr_screening\\.venv\\lib\\site-packages (from langgraph-checkpoint<3.0.0,>=2.1.0->langgraph) (1.10.0)\n",
      "Requirement already satisfied: httpx>=0.25.2 in c:\\users\\dell\\codes\\langgraph_hr_screening\\.venv\\lib\\site-packages (from langgraph-sdk<0.3.0,>=0.2.2->langgraph) (0.28.1)\n",
      "Requirement already satisfied: orjson>=3.10.1 in c:\\users\\dell\\codes\\langgraph_hr_screening\\.venv\\lib\\site-packages (from langgraph-sdk<0.3.0,>=0.2.2->langgraph) (3.11.2)\n",
      "Requirement already satisfied: anyio<5,>=3.5.0 in c:\\users\\dell\\codes\\langgraph_hr_screening\\.venv\\lib\\site-packages (from groq) (4.10.0)\n",
      "Requirement already satisfied: distro<2,>=1.7.0 in c:\\users\\dell\\codes\\langgraph_hr_screening\\.venv\\lib\\site-packages (from groq) (1.9.0)\n",
      "Requirement already satisfied: sniffio in c:\\users\\dell\\codes\\langgraph_hr_screening\\.venv\\lib\\site-packages (from groq) (1.3.1)\n",
      "Requirement already satisfied: httpcore==1.* in c:\\users\\dell\\codes\\langgraph_hr_screening\\.venv\\lib\\site-packages (from httpx>=0.25.2->langgraph-sdk<0.3.0,>=0.2.2->langgraph) (1.0.9)\n",
      "Requirement already satisfied: h11>=0.16 in c:\\users\\dell\\codes\\langgraph_hr_screening\\.venv\\lib\\site-packages (from httpcore==1.*->httpx>=0.25.2->langgraph-sdk<0.3.0,>=0.2.2->langgraph) (0.16.0)\n",
      "Requirement already satisfied: requests-toolbelt>=1.0.0 in c:\\users\\dell\\codes\\langgraph_hr_screening\\.venv\\lib\\site-packages (from langsmith>=0.1.17->langchain) (1.0.0)\n",
      "Requirement already satisfied: zstandard>=0.23.0 in c:\\users\\dell\\codes\\langgraph_hr_screening\\.venv\\lib\\site-packages (from langsmith>=0.1.17->langchain) (0.24.0)\n"
     ]
    },
    {
     "name": "stderr",
     "output_type": "stream",
     "text": [
      "\n",
      "[notice] A new release of pip is available: 25.1.1 -> 25.2\n",
      "[notice] To update, run: python.exe -m pip install --upgrade pip\n"
     ]
    }
   ],
   "execution_count": 25
  },
  {
   "metadata": {
    "ExecuteTime": {
     "end_time": "2025-08-22T21:08:00.997006Z",
     "start_time": "2025-08-22T21:07:58.338472Z"
    }
   },
   "cell_type": "code",
   "source": [
    "from langchain_groq import ChatGroq\n",
    "\n",
    "\n",
    "llm = ChatGroq(model=\"llama-3.1-8b-instant\", temperature=0)\n",
    "resp = llm.invoke(\"Say 'Groq is working!'\")\n",
    "print(resp.content)\n"
   ],
   "outputs": [
    {
     "name": "stdout",
     "output_type": "stream",
     "text": [
      "Groq is working!\n"
     ]
    }
   ],
   "execution_count": 26
  },
  {
   "cell_type": "code",
   "metadata": {
    "id": "CNn_I9Im3rdX",
    "ExecuteTime": {
     "end_time": "2025-08-22T21:08:01.032023Z",
     "start_time": "2025-08-22T21:08:01.028328Z"
    }
   },
   "source": [
    "from typing_extensions import TypedDict\n",
    "class State(TypedDict):\n",
    "  application: str\n",
    "  experience_level: str\n",
    "  skill_match : str\n",
    "  response: str"
   ],
   "outputs": [],
   "execution_count": 27
  },
  {
   "cell_type": "code",
   "metadata": {
    "id": "zeJmGNkHN3g2",
    "ExecuteTime": {
     "end_time": "2025-08-22T21:08:01.080870Z",
     "start_time": "2025-08-22T21:08:01.077658Z"
    }
   },
   "source": [
    "from langgraph.graph import StateGraph, START, END\n",
    "\n",
    "workflow = StateGraph(State)"
   ],
   "outputs": [],
   "execution_count": 28
  },
  {
   "cell_type": "code",
   "metadata": {
    "id": "aDmawPyFV92e",
    "ExecuteTime": {
     "end_time": "2025-08-22T21:08:01.107305Z",
     "start_time": "2025-08-22T21:08:01.104064Z"
    }
   },
   "source": [
    "from langchain_core.prompts import ChatPromptTemplate"
   ],
   "outputs": [],
   "execution_count": 29
  },
  {
   "cell_type": "code",
   "metadata": {
    "id": "siRlGmb5Vs1r",
    "ExecuteTime": {
     "end_time": "2025-08-22T21:08:01.124539Z",
     "start_time": "2025-08-22T21:08:01.118886Z"
    }
   },
   "source": [
    "def categorize_experience(state: State) -> State:\n",
    "  print(\"\\nCategorizing the experience level of candidate : \")\n",
    "  prompt = ChatPromptTemplate.from_template(\n",
    "      \"Based on the following job application, categorize the candidate as 'Entry-level', 'Mid-level' or 'Senior-level'\"\n",
    "      \"Application : {application}\"\n",
    "  )\n",
    "  chain = prompt | llm\n",
    "  experience_level = chain.invoke({\"application\": state[\"application\"]}).content\n",
    "  print(f\"Experience Level : {experience_level}\")\n",
    "  return {\"experience_level\" : experience_level}\n",
    "\n",
    "def assess_skillset(state: State) -> State:\n",
    "  print(\"\\nAssessing the skillset of candidate : \")\n",
    "  prompt = ChatPromptTemplate.from_template(\n",
    "      \"Based on the job application for a Python Developer, assess the candidate's skillset\"\n",
    "      \"Respond with either 'Match' or 'No Match'\"\n",
    "      \"Application : {application}\"\n",
    "  )\n",
    "  chain = prompt | llm\n",
    "  skill_match = chain.invoke({\"application\": state[\"application\"]}).content\n",
    "  print(f\"Skill Match : {skill_match}\")\n",
    "  return {\"skill_match\" : skill_match}\n",
    "\n",
    "def schedule_hr_interview(state: State) -> State:\n",
    "  print(\"\\nScheduling the interview : \")\n",
    "  return {\"response\" : \"Candidate has been shortlisted for an HR interview.\"}\n",
    "\n",
    "def escalate_to_recruiter(state: State) -> State:\n",
    "  print(\"Escalating to recruiter\")\n",
    "  return {\"response\" : \"Candidate has senior-level experience but doesn't match job skills.\"}\n",
    "\n",
    "def reject_application(state: State) -> State:\n",
    "  print(\"Sending rejecting email\")\n",
    "  return {\"response\" : \"Candidate doesn't meet JD and has been rejected.\"}"
   ],
   "outputs": [],
   "execution_count": 30
  },
  {
   "cell_type": "code",
   "metadata": {
    "colab": {
     "base_uri": "https://localhost:8080/"
    },
    "id": "VbZAi69cY8KL",
    "outputId": "dfd3b087-6b01-42b0-ab5b-8f75cae91af6",
    "ExecuteTime": {
     "end_time": "2025-08-22T21:08:01.139199Z",
     "start_time": "2025-08-22T21:08:01.133527Z"
    }
   },
   "source": [
    "workflow.add_node(\"categorize_experience\", categorize_experience)\n",
    "workflow.add_node(\"assess_skillset\", assess_skillset)\n",
    "workflow.add_node(\"schedule_hr_interview\", schedule_hr_interview)\n",
    "workflow.add_node(\"escalate_to_recruiter\", escalate_to_recruiter)\n",
    "workflow.add_node(\"reject_application\", reject_application)"
   ],
   "outputs": [
    {
     "data": {
      "text/plain": [
       "<langgraph.graph.state.StateGraph at 0x25307c82850>"
      ]
     },
     "execution_count": 31,
     "metadata": {},
     "output_type": "execute_result"
    }
   ],
   "execution_count": 31
  },
  {
   "cell_type": "code",
   "metadata": {
    "id": "LcUdHP1ThdR6",
    "ExecuteTime": {
     "end_time": "2025-08-22T21:08:01.163024Z",
     "start_time": "2025-08-22T21:08:01.153937Z"
    }
   },
   "source": [
    "def route_app(state: State) -> str:\n",
    "    if state.get(\"skill_match\") == \"Match\":\n",
    "        return \"schedule_hr_interview\"\n",
    "    elif state.get(\"experience_level\") == \"Senior-level\":\n",
    "        return \"escalate_to_recruiter\"\n",
    "    else:\n",
    "        return \"reject_application\"\n",
    "\n",
    "# Edges\n",
    "workflow.add_edge(START, \"categorize_experience\")\n",
    "workflow.add_edge(\"categorize_experience\", \"assess_skillset\")\n",
    "\n",
    "#  Conditional edges\n",
    "workflow.add_conditional_edges(\n",
    "    \"assess_skillset\",\n",
    "    route_app,\n",
    "    {\n",
    "        \"schedule_hr_interview\": \"schedule_hr_interview\",\n",
    "        \"escalate_to_recruiter\": \"escalate_to_recruiter\",\n",
    "        \"reject_application\": \"reject_application\",\n",
    "    },\n",
    ")\n",
    "\n",
    "# Terminal edges\n",
    "workflow.add_edge(\"schedule_hr_interview\", END)\n",
    "workflow.add_edge(\"escalate_to_recruiter\", END)\n",
    "workflow.add_edge(\"reject_application\", END)\n",
    "\n",
    "\n",
    "app = workflow.compile()\n"
   ],
   "outputs": [],
   "execution_count": 32
  },
  {
   "cell_type": "code",
   "metadata": {
    "colab": {
     "base_uri": "https://localhost:8080/",
     "height": 449
    },
    "id": "tkjvKIqHhmfT",
    "outputId": "4d4fccdc-6e1d-420f-8b06-6fed439b42ca",
    "ExecuteTime": {
     "end_time": "2025-08-22T21:08:02.260559Z",
     "start_time": "2025-08-22T21:08:01.172240Z"
    }
   },
   "source": [
    "from IPython.display import Image, display\n",
    "\n",
    "display(\n",
    "    Image(\n",
    "        app.get_graph().draw_mermaid_png()\n",
    "    )\n",
    ")"
   ],
   "outputs": [
    {
     "data": {
      "image/png": "[encoded data removed]",
      "text/plain": [
       "<IPython.core.display.Image object>"
      ]
     },
     "metadata": {},
     "output_type": "display_data"
    }
   ],
   "execution_count": 33
  },
  {
   "cell_type": "code",
   "metadata": {
    "id": "LPl1be-Ei-Pv",
    "ExecuteTime": {
     "end_time": "2025-08-22T21:08:02.281737Z",
     "start_time": "2025-08-22T21:08:02.277482Z"
    }
   },
   "source": [
    "def run_candidate_screening(application: str):\n",
    "  results = app.invoke({\"application\" : application})\n",
    "  return {\n",
    "      \"experience_level\" : results[\"experience_level\"],\n",
    "      \"skill_match\" : results[\"skill_match\"],\n",
    "      \"response\" : results[\"response\"]\n",
    "  }"
   ],
   "outputs": [],
   "execution_count": 34
  },
  {
   "cell_type": "code",
   "metadata": {
    "colab": {
     "base_uri": "https://localhost:8080/"
    },
    "id": "afvj3M4VkDIp",
    "outputId": "c7c8fe82-3213-4e26-a438-ffbc47068601",
    "ExecuteTime": {
     "end_time": "2025-08-22T21:08:03.619297Z",
     "start_time": "2025-08-22T21:08:02.290327Z"
    }
   },
   "source": [
    "application_text = \"I have 10 years of experience in software engineering with expertise in JAVA\"\n",
    "results = run_candidate_screening(application_text)\n",
    "print(\"\\n\\nComputed Results :\")\n",
    "print(f\"Application: {application_text}\")\n",
    "print(f\"Experience Level: {results['experience_level']}\")\n",
    "print(f\"Skill Match: {results['skill_match']}\")\n",
    "print(f\"Response: {results['response']}\")"
   ],
   "outputs": [
    {
     "name": "stdout",
     "output_type": "stream",
     "text": [
      "\n",
      "Categorizing the experience level of candidate : \n",
      "Experience Level : Based on the job application, I would categorize the candidate as 'Mid-level'. \n",
      "\n",
      "Here's the reasoning:\n",
      "\n",
      "- The candidate has 10 years of experience, which is a significant amount of time in the field. This suggests that they have a good understanding of software engineering principles and have likely worked on multiple projects.\n",
      "- The mention of \"expertise in JAVA\" implies that they have a strong foundation in a specific programming language, which is a key skill for a software engineer.\n",
      "- However, the fact that they mention \"10 years of experience\" rather than \"10 years of experience in leadership roles\" or \"10 years of experience in a senior position\" suggests that they may not be at the most senior level of their career.\n",
      "\n",
      "Overall, a mid-level candidate typically has 5-15 years of experience and has demonstrated a strong foundation in their field, but may not have reached the most senior levels of leadership or responsibility.\n",
      "\n",
      "Assessing the skillset of candidate : \n",
      "Skill Match : No Match\n",
      "\n",
      "The candidate has 10 years of experience in software engineering, but their expertise is in Java, not Python. The job application is for a Python Developer, so the candidate's skillset does not match the requirements of the position.\n",
      "Sending rejecting email\n",
      "\n",
      "\n",
      "Computed Results :\n",
      "Application: I have 10 years of experience in software engineering with expertise in JAVA\n",
      "Experience Level: Based on the job application, I would categorize the candidate as 'Mid-level'. \n",
      "\n",
      "Here's the reasoning:\n",
      "\n",
      "- The candidate has 10 years of experience, which is a significant amount of time in the field. This suggests that they have a good understanding of software engineering principles and have likely worked on multiple projects.\n",
      "- The mention of \"expertise in JAVA\" implies that they have a strong foundation in a specific programming language, which is a key skill for a software engineer.\n",
      "- However, the fact that they mention \"10 years of experience\" rather than \"10 years of experience in leadership roles\" or \"10 years of experience in a senior position\" suggests that they may not be at the most senior level of their career.\n",
      "\n",
      "Overall, a mid-level candidate typically has 5-15 years of experience and has demonstrated a strong foundation in their field, but may not have reached the most senior levels of leadership or responsibility.\n",
      "Skill Match: No Match\n",
      "\n",
      "The candidate has 10 years of experience in software engineering, but their expertise is in Java, not Python. The job application is for a Python Developer, so the candidate's skillset does not match the requirements of the position.\n",
      "Response: Candidate doesn't meet JD and has been rejected.\n"
     ]
    }
   ],
   "execution_count": 35
  },
  {
   "cell_type": "code",
   "metadata": {
    "colab": {
     "base_uri": "https://localhost:8080/"
    },
    "id": "x_vP7jkHkaza",
    "outputId": "4f80e771-9e6c-4a33-b891-123889d4febd",
    "ExecuteTime": {
     "end_time": "2025-08-22T21:08:04.763211Z",
     "start_time": "2025-08-22T21:08:03.635043Z"
    }
   },
   "source": [
    "application_text = \"I have 1 year of experience in software engineering with expertise in JAVA\"\n",
    "results = run_candidate_screening(application_text)\n",
    "print(\"\\n\\nComputed Results :\")\n",
    "print(f\"Application: {application_text}\")\n",
    "print(f\"Experience Level: {results['experience_level']}\")\n",
    "print(f\"Skill Match: {results['skill_match']}\")\n",
    "print(f\"Response: {results['response']}\")"
   ],
   "outputs": [
    {
     "name": "stdout",
     "output_type": "stream",
     "text": [
      "\n",
      "Categorizing the experience level of candidate : \n",
      "Experience Level : Based on the job application, I would categorize the candidate as 'Entry-level'. \n",
      "\n",
      "Here's why:\n",
      "\n",
      "- The candidate has only 1 year of experience, which is typically considered a short period for a professional in the field.\n",
      "- The candidate mentions expertise in JAVA, which is a common skill for entry-level software engineers to have.\n",
      "- There is no mention of leadership roles, significant contributions to projects, or advanced technical skills that would typically be associated with mid-level or senior-level candidates.\n",
      "\n",
      "Overall, the candidate's experience and skills suggest that they are at the beginning of their career in software engineering.\n",
      "\n",
      "Assessing the skillset of candidate : \n",
      "Skill Match : No Match\n",
      "\n",
      "The candidate has experience in software engineering, but their expertise is in Java, not Python. The job application is specifically for a Python Developer, so the candidate's skillset does not match the requirements.\n",
      "Sending rejecting email\n",
      "\n",
      "\n",
      "Computed Results :\n",
      "Application: I have 1 year of experience in software engineering with expertise in JAVA\n",
      "Experience Level: Based on the job application, I would categorize the candidate as 'Entry-level'. \n",
      "\n",
      "Here's why:\n",
      "\n",
      "- The candidate has only 1 year of experience, which is typically considered a short period for a professional in the field.\n",
      "- The candidate mentions expertise in JAVA, which is a common skill for entry-level software engineers to have.\n",
      "- There is no mention of leadership roles, significant contributions to projects, or advanced technical skills that would typically be associated with mid-level or senior-level candidates.\n",
      "\n",
      "Overall, the candidate's experience and skills suggest that they are at the beginning of their career in software engineering.\n",
      "Skill Match: No Match\n",
      "\n",
      "The candidate has experience in software engineering, but their expertise is in Java, not Python. The job application is specifically for a Python Developer, so the candidate's skillset does not match the requirements.\n",
      "Response: Candidate doesn't meet JD and has been rejected.\n"
     ]
    }
   ],
   "execution_count": 36
  },
  {
   "cell_type": "code",
   "metadata": {
    "colab": {
     "base_uri": "https://localhost:8080/"
    },
    "id": "MYGu49hLklLx",
    "outputId": "c2cef61e-7a28-406f-dc11-314620bfb082",
    "ExecuteTime": {
     "end_time": "2025-08-22T21:08:05.763777Z",
     "start_time": "2025-08-22T21:08:04.776447Z"
    }
   },
   "source": [
    "application_text = \"I have experience in software engineering with expertise in Python\"\n",
    "results = run_candidate_screening(application_text)\n",
    "print(\"\\n\\nComputed Results :\")\n",
    "print(f\"Application: {application_text}\")\n",
    "print(f\"Experience Level: {results['experience_level']}\")\n",
    "print(f\"Skill Match: {results['skill_match']}\")\n",
    "print(f\"Response: {results['response']}\")"
   ],
   "outputs": [
    {
     "name": "stdout",
     "output_type": "stream",
     "text": [
      "\n",
      "Categorizing the experience level of candidate : \n",
      "Experience Level : Based on the provided job application, I would categorize the candidate as 'Mid-level'. \n",
      "\n",
      "Here's my reasoning:\n",
      "\n",
      "- The candidate mentions they have experience in software engineering, which suggests they have some level of experience and skills in the field.\n",
      "- They also mention expertise in Python, which is a specific skill that is often acquired through experience and practice.\n",
      "- However, there is no mention of leadership roles, significant achievements, or a long history of experience, which are often characteristics of senior-level candidates.\n",
      "- The candidate's description does not indicate a complete beginner (entry-level), as they claim to have experience and expertise.\n",
      "\n",
      "Therefore, 'Mid-level' seems to be the most fitting category for this candidate.\n",
      "\n",
      "Assessing the skillset of candidate : \n",
      "Skill Match : Match\n",
      "\n",
      "Scheduling the interview : \n",
      "\n",
      "\n",
      "Computed Results :\n",
      "Application: I have experience in software engineering with expertise in Python\n",
      "Experience Level: Based on the provided job application, I would categorize the candidate as 'Mid-level'. \n",
      "\n",
      "Here's my reasoning:\n",
      "\n",
      "- The candidate mentions they have experience in software engineering, which suggests they have some level of experience and skills in the field.\n",
      "- They also mention expertise in Python, which is a specific skill that is often acquired through experience and practice.\n",
      "- However, there is no mention of leadership roles, significant achievements, or a long history of experience, which are often characteristics of senior-level candidates.\n",
      "- The candidate's description does not indicate a complete beginner (entry-level), as they claim to have experience and expertise.\n",
      "\n",
      "Therefore, 'Mid-level' seems to be the most fitting category for this candidate.\n",
      "Skill Match: Match\n",
      "Response: Candidate has been shortlisted for an HR interview.\n"
     ]
    }
   ],
   "execution_count": 37
  },
  {
   "cell_type": "code",
   "metadata": {
    "colab": {
     "base_uri": "https://localhost:8080/"
    },
    "id": "dayX1n2zktX3",
    "outputId": "aefe7e69-8fe4-4520-c097-9364806cc2f8",
    "ExecuteTime": {
     "end_time": "2025-08-22T21:08:07.135302Z",
     "start_time": "2025-08-22T21:08:05.778505Z"
    }
   },
   "source": [
    "application_text = \"I have 5 years of experience in software engineering with expertise in C++\"\n",
    "results = run_candidate_screening(application_text)\n",
    "print(\"\\n\\nComputed Results :\")\n",
    "print(f\"Application: {application_text}\")\n",
    "print(f\"Experience Level: {results['experience_level']}\")\n",
    "print(f\"Skill Match: {results['skill_match']}\")\n",
    "print(f\"Response: {results['response']}\")"
   ],
   "outputs": [
    {
     "name": "stdout",
     "output_type": "stream",
     "text": [
      "\n",
      "Categorizing the experience level of candidate : \n",
      "Experience Level : Based on the job application, I would categorize the candidate as 'Mid-level'. \n",
      "\n",
      "Here's the reasoning:\n",
      "\n",
      "- The candidate has 5 years of experience, which is more than the typical 1-3 years associated with entry-level positions.\n",
      "- The candidate has expertise in C++, which suggests a level of specialization and proficiency in a specific area, but not necessarily leadership or high-level strategic responsibilities typically associated with senior-level positions.\n",
      "- The candidate's experience and expertise are likely to be sufficient for a mid-level position, but may not be enough to qualify for a senior-level role, which often requires 8-12 years or more of experience and significant leadership or technical expertise.\n",
      "\n",
      "Assessing the skillset of candidate : \n",
      "Skill Match : No Match\n",
      "\n",
      "The candidate has experience in software engineering, but their expertise is in C++, which is not the primary language required for the Python Developer position. While C++ and Python share some similarities, they are distinct languages with different syntax and paradigms. The candidate's experience in C++ may not directly translate to Python, and additional knowledge of Python-specific concepts, libraries, and frameworks may be required.\n",
      "Sending rejecting email\n",
      "\n",
      "\n",
      "Computed Results :\n",
      "Application: I have 5 years of experience in software engineering with expertise in C++\n",
      "Experience Level: Based on the job application, I would categorize the candidate as 'Mid-level'. \n",
      "\n",
      "Here's the reasoning:\n",
      "\n",
      "- The candidate has 5 years of experience, which is more than the typical 1-3 years associated with entry-level positions.\n",
      "- The candidate has expertise in C++, which suggests a level of specialization and proficiency in a specific area, but not necessarily leadership or high-level strategic responsibilities typically associated with senior-level positions.\n",
      "- The candidate's experience and expertise are likely to be sufficient for a mid-level position, but may not be enough to qualify for a senior-level role, which often requires 8-12 years or more of experience and significant leadership or technical expertise.\n",
      "Skill Match: No Match\n",
      "\n",
      "The candidate has experience in software engineering, but their expertise is in C++, which is not the primary language required for the Python Developer position. While C++ and Python share some similarities, they are distinct languages with different syntax and paradigms. The candidate's experience in C++ may not directly translate to Python, and additional knowledge of Python-specific concepts, libraries, and frameworks may be required.\n",
      "Response: Candidate doesn't meet JD and has been rejected.\n"
     ]
    }
   ],
   "execution_count": 38
  }
 ],
 "metadata": {
  "colab": {
   "provenance": [],
   "toc_visible": true
  },
  "kernelspec": {
   "display_name": "Python 3 (ipykernel)",
   "language": "python",
   "name": "python3"
  },
  "language_info": {
   "codemirror_mode": {
    "name": "ipython",
    "version": 3
   },
   "file_extension": ".py",
   "mimetype": "text/x-python",
   "name": "python",
   "nbconvert_exporter": "python",
   "pygments_lexer": "ipython3",
   "version": "3.13.5"
  }
 },
 "nbformat": 4,
 "nbformat_minor": 4
}
